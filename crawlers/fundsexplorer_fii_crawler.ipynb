{
  "cells": [
    {
      "cell_type": "code",
      "execution_count": null,
      "id": "cd0716f9",
      "metadata": {
        "id": "cd0716f9"
      },
      "outputs": [],
      "source": [
        "import numpy as np\n",
        "import pandas as pd\n",
        "from bs4 import BeautifulSoup\n",
        "import requests"
      ]
    },
    {
      "cell_type": "code",
      "execution_count": null,
      "id": "26bbcc73",
      "metadata": {
        "colab": {
          "base_uri": "https://localhost:8080/",
          "height": 696
        },
        "id": "26bbcc73",
        "outputId": "4bfc6b4e-2f45-4900-91a5-8d8d973e1d3d"
      },
      "outputs": [],
      "source": [
        "url='https://www.fundsexplorer.com.br/ranking'\n",
        "html = requests.get(url)\n",
        "auxiliar_html=pd.read_html(html.text)\n",
        "tabela=auxiliar_html[0]\n",
        "tabela"
      ]
    },
    {
      "cell_type": "code",
      "execution_count": null,
      "id": "b9d36165",
      "metadata": {
        "colab": {
          "base_uri": "https://localhost:8080/",
          "height": 426
        },
        "id": "b9d36165",
        "outputId": "faf1d787-39fb-43ae-9c44-be130f9016e9",
        "scrolled": true
      },
      "outputs": [],
      "source": [
        "url_base='https://www.fundsexplorer.com.br/funds/'\n",
        "lista_ativos=['DEVA11','HCTR11','RBRY11','CPTS11','VRTA11','RVBI11','HSLG11','HSML11','JSRE11','HGRU11','TRXF11','JFLL11']\n",
        "lista_yield = []\n",
        "for x in lista_ativos:\n",
        "    receba=url_base+x\n",
        "    url = receba\n",
        "    html = requests.get(url)\n",
        "    auxiliar_html=pd.read_html(html.text)\n",
        "    tabela=auxiliar_html[0]\n",
        "    aux1=tabela.iloc[0,1].replace(\"R$\", \"\").replace(\",\", \".\").replace(\" \", \"\")\n",
        "    aux3=tabela.iloc[0,2].replace(\"R$\", \"\").replace(\",\", \".\").replace(\" \", \"\")\n",
        "    aux6=tabela.iloc[0,3].replace(\"R$\", \"\").replace(\",\", \".\").replace(\" \", \"\")\n",
        "    aux12=tabela.iloc[0,4].replace(\"R$\", \"\").replace(\",\", \".\").replace(\" \", \"\")\n",
        "    lista_yield.append([x, aux1,aux3,aux6,aux12])\n",
        "lista_yield=pd.DataFrame(lista_yield, columns=[\"Ticket\", \"Yield(Atual)\", \"Yield(3m)\", \"Yield(6m)\", \"Yield(12m)\"])  \n",
        "lista_yield['Yield(Atual)']=lista_yield['Yield(Atual)'].astype(float)\n",
        "lista_yield['Yield(3m)']   =lista_yield['Yield(3m)'].astype(float)\n",
        "lista_yield['Yield(6m)']   =lista_yield['Yield(6m)'].astype(float)\n",
        "lista_yield['Yield(12m)']  =lista_yield['Yield(12m)'].astype(float)\n",
        "lista_yield"
      ]
    }
  ],
  "metadata": {
    "colab": {
      "provenance": []
    },
    "kernelspec": {
      "display_name": "Python 3",
      "language": "python",
      "name": "python3"
    },
    "language_info": {
      "codemirror_mode": {
        "name": "ipython",
        "version": 3
      },
      "file_extension": ".py",
      "mimetype": "text/x-python",
      "name": "python",
      "nbconvert_exporter": "python",
      "pygments_lexer": "ipython3",
      "version": "3.9.14 (main, Oct 19 2022, 14:58:57) \n[Clang 14.0.0 (clang-1400.0.29.102)]"
    },
    "vscode": {
      "interpreter": {
        "hash": "766a14c334c676bee9719cb6886bdf651a790496043ce41867bfea7dedff6c43"
      }
    }
  },
  "nbformat": 4,
  "nbformat_minor": 5
}
